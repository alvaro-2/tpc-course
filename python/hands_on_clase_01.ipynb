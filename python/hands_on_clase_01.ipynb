{
  "cells": [
    {
      "cell_type": "markdown",
      "metadata": {
        "id": "rVS1jZk8HTYC"
      },
      "source": [
        "**Hands on: Python, scipy, numpy, matplotlib**\n",
        "\n",
        "\n",
        "Utilizando solo python resolver los siguientes problemas (sin usar numpy). El ejemplo a continuación contiene la solución al primer ejercicio. Puede utilizarlo para verificar su solución o como ejemplo para resolver los demás. Los problemas fueron extraídos de https://projecteuler.net/archives\n",
        "\n",
        "**1)** Si hacemos una lista de todos los números naturales debajo de 10 que sean múltiplos de 3 o 5 obtendríamos 3, 5, 6 y 9. La suma de los múltiplos es 23. Encuentre la suma de todos los múltiplos de 3 o 5 debajo de 1000 (o sea, 3+5+6+9+10+12+15+18+...)\n",
        "\n",
        "**2)** Cada término en la serie de Fibonacci es generado a partir de la suma de los dos términos previos, empezando de 1 y 2, los diez primeros términos serán: 1, 2, 3, 5, 8, 13, 21, 34, 55, 89, … Considerando los términos de la serie de Fibonacci que son impares, y por debajo de un millón encuentre la suma de dichos términos.\n",
        "\n",
        "**3)** Los factores primos en 13195 son 5, 7, 13 y 29 ¿ Cuál es el factor primo más grande en el número 600851475143 ?\n",
        "\n"
      ]
    },
    {
      "cell_type": "code",
      "execution_count": null,
      "metadata": {
        "colab": {
          "base_uri": "https://localhost:8080/",
          "height": 74
        },
        "id": "9DbwtarNH2Zd",
        "outputId": "64d93e43-8e39-4098-c810-f72c106d4135"
      },
      "outputs": [
        {
          "name": "stdout",
          "output_type": "stream",
          "text": [
            "Serie {0, 3, 5, 6, 9, 10, 12, 15, 18, 20, 21, 24, 25, 27, 30, 33, 35, 36, 39, 40, 42, 45, 48, 50, 51, 54, 55, 57, 60, 63, 65, 66, 69, 70, 72, 75, 78, 80, 81, 84, 85, 87, 90, 93, 95, 96, 99, 100, 102, 105, 108, 110, 111, 114, 115, 117, 120, 123, 125, 126, 129, 130, 132, 135, 138, 140, 141, 144, 145, 147, 150, 153, 155, 156, 159, 160, 162, 165, 168, 170, 171, 174, 175, 177, 180, 183, 185, 186, 189, 190, 192, 195, 198, 200, 201, 204, 205, 207, 210, 213, 215, 216, 219, 220, 222, 225, 228, 230, 231, 234, 235, 237, 240, 243, 245, 246, 249, 250, 252, 255, 258, 260, 261, 264, 265, 267, 270, 273, 275, 276, 279, 280, 282, 285, 288, 290, 291, 294, 295, 297, 300, 303, 305, 306, 309, 310, 312, 315, 318, 320, 321, 324, 325, 327, 330, 333, 335, 336, 339, 340, 342, 345, 348, 350, 351, 354, 355, 357, 360, 363, 365, 366, 369, 370, 372, 375, 378, 380, 381, 384, 385, 387, 390, 393, 395, 396, 399, 400, 402, 405, 408, 410, 411, 414, 415, 417, 420, 423, 425, 426, 429, 430, 432, 435, 438, 440, 441, 444, 445, 447, 450, 453, 455, 456, 459, 460, 462, 465, 468, 470, 471, 474, 475, 477, 480, 483, 485, 486, 489, 490, 492, 495, 498, 500, 501, 504, 505, 507, 510, 513, 515, 516, 519, 520, 522, 525, 528, 530, 531, 534, 535, 537, 540, 543, 545, 546, 549, 550, 552, 555, 558, 560, 561, 564, 565, 567, 570, 573, 575, 576, 579, 580, 582, 585, 588, 590, 591, 594, 595, 597, 600, 603, 605, 606, 609, 610, 612, 615, 618, 620, 621, 624, 625, 627, 630, 633, 635, 636, 639, 640, 642, 645, 648, 650, 651, 654, 655, 657, 660, 663, 665, 666, 669, 670, 672, 675, 678, 680, 681, 684, 685, 687, 690, 693, 695, 696, 699, 700, 702, 705, 708, 710, 711, 714, 715, 717, 720, 723, 725, 726, 729, 730, 732, 735, 738, 740, 741, 744, 745, 747, 750, 753, 755, 756, 759, 760, 762, 765, 768, 770, 771, 774, 775, 777, 780, 783, 785, 786, 789, 790, 792, 795, 798, 800, 801, 804, 805, 807, 810, 813, 815, 816, 819, 820, 822, 825, 828, 830, 831, 834, 835, 837, 840, 843, 845, 846, 849, 850, 852, 855, 858, 860, 861, 864, 865, 867, 870, 873, 875, 876, 879, 880, 882, 885, 888, 890, 891, 894, 895, 897, 900, 903, 905, 906, 909, 910, 912, 915, 918, 920, 921, 924, 925, 927, 930, 933, 935, 936, 939, 940, 942, 945, 948, 950, 951, 954, 955, 957, 960, 963, 965, 966, 969, 970, 972, 975, 978, 980, 981, 984, 985, 987, 990, 993, 995, 996, 999}\n",
            "Suma 233168\n"
          ]
        }
      ],
      "source": [
        "# Si hacemos una lista de todos los números naturales debajo de 10 que sean \n",
        "# múltiplos de 3 o 5 obtendríamos 3, 5, 6 y 9. La suma de los múltiplos es 23.\n",
        "# Encuentre la suma de todos los múltiplos de 3 y 5 debajo de 1000.\n",
        "\n",
        "a = range(0,1000,3) #defined as a list\n",
        "b = range(0,1000,5)\n",
        "c = set(a) | set(b) #redefined as a set and union\n",
        "print(\"Serie\",c)\n",
        "print(\"Suma\", sum(c))"
      ]
    },
    {
      "cell_type": "markdown",
      "metadata": {},
      "source": [
        "**2)** Cada término en la serie de Fibonacci es generado a partir de la suma de los dos términos previos, empezando de 1 y 2, los diez primeros términos serán: 1, 2, 3, 5, 8, 13, 21, 34, 55, 89, … Considerando los términos de la serie de Fibonacci que son impares, y por debajo de un millón encuentre la suma de dichos términos."
      ]
    },
    {
      "cell_type": "code",
      "execution_count": 1,
      "metadata": {},
      "outputs": [],
      "source": [
        "# Funcion por recursion: no conviene con un n muy grande\n",
        "# def fib(n):\n",
        "#     '''\n",
        "#     Funcion recursiva, devuelve el elemento correspondiente\n",
        "#     a la posicion n en la serie de Fibonacci\n",
        "#     '''\n",
        "#     if n < 2:\n",
        "#         return n\n",
        "#     else:\n",
        "#         return fib(n-1) + fib(n-2)\n",
        "\n",
        "def fib(n):\n",
        "    # caso base\n",
        "    a, b = 0, 1\n",
        "    for i in range(n):\n",
        "        c = a+b\n",
        "        a = b\n",
        "        b = c\n",
        "    return  a\n",
        "\n",
        "def fib_serie_impar(n):\n",
        "    '''\n",
        "    Devuelve una lista con los terminos impares\n",
        "    de la serie de Fibonacci de longitud n\n",
        "    '''\n",
        "    s = [ fib(i) for i in range(n) if fib(i) % 2 == 1 ]\n",
        "    return s\n"
      ]
    },
    {
      "cell_type": "code",
      "execution_count": 2,
      "metadata": {},
      "outputs": [
        {
          "data": {
            "text/plain": [
              "832040"
            ]
          },
          "execution_count": 2,
          "metadata": {},
          "output_type": "execute_result"
        }
      ],
      "source": [
        "# check\n",
        "fib(30)"
      ]
    },
    {
      "cell_type": "code",
      "execution_count": 3,
      "metadata": {},
      "outputs": [
        {
          "name": "stdout",
          "output_type": "stream",
          "text": [
            "[1, 1, 3, 5, 13, 21]\n"
          ]
        },
        {
          "data": {
            "text/plain": [
              "44"
            ]
          },
          "execution_count": 3,
          "metadata": {},
          "output_type": "execute_result"
        }
      ],
      "source": [
        "# prueba\n",
        "# print(fib_serie_impar(10))\n",
        "# sum(fib_serie_impar(10))"
      ]
    },
    {
      "cell_type": "code",
      "execution_count": 66,
      "metadata": {},
      "outputs": [],
      "source": [
        "#sum(fib_serie_impar(1000000)) # demora muchisimo (corte en 600s)"
      ]
    },
    {
      "cell_type": "code",
      "execution_count": 4,
      "metadata": {},
      "outputs": [],
      "source": [
        "def fib_suma_impar(n):\n",
        "    '''\n",
        "    Devuelve la sumatoria de los terminos impares\n",
        "    de la serie de Fibonacci de longitud n\n",
        "    '''\n",
        "    suma = 0\n",
        "    for i in range(n):\n",
        "        valor = fib(i)\n",
        "        if valor > 1_000_000:\n",
        "            return suma\n",
        "        else:\n",
        "            if valor % 2 == 1:\n",
        "                suma += valor\n",
        "                return suma"
      ]
    },
    {
      "cell_type": "code",
      "execution_count": 13,
      "metadata": {},
      "outputs": [],
      "source": [
        "# Funcion recursiva para calcular la sumatoria del primer millon de terminos de Fibonacci\n",
        "def fib_recur(n = 0, suma = 0):\n",
        "    #suma = 0\n",
        "    valor = fib(n)\n",
        "    #if valor % 2 == 0:\n",
        "    suma = suma + valor\n",
        "    if valor > 1_000_000:\n",
        "        return suma\n",
        "    else:\n",
        "        print(n, suma)\n",
        "        return fib_recur(n+1, suma)\n",
        "    \n",
        "    return suma"
      ]
    },
    {
      "cell_type": "code",
      "execution_count": 14,
      "metadata": {},
      "outputs": [
        {
          "name": "stdout",
          "output_type": "stream",
          "text": [
            "0 0\n",
            "1 1\n",
            "2 2\n",
            "3 4\n",
            "4 7\n",
            "5 12\n",
            "6 20\n",
            "7 33\n",
            "8 54\n",
            "9 88\n",
            "10 143\n",
            "11 232\n",
            "12 376\n",
            "13 609\n",
            "14 986\n",
            "15 1596\n",
            "16 2583\n",
            "17 4180\n",
            "18 6764\n",
            "19 10945\n",
            "20 17710\n",
            "21 28656\n",
            "22 46367\n",
            "23 75024\n",
            "24 121392\n",
            "25 196417\n",
            "26 317810\n",
            "27 514228\n",
            "28 832039\n",
            "29 1346268\n",
            "30 2178308\n"
          ]
        },
        {
          "data": {
            "text/plain": [
              "3524577"
            ]
          },
          "execution_count": 14,
          "metadata": {},
          "output_type": "execute_result"
        }
      ],
      "source": [
        "fib_recur()"
      ]
    },
    {
      "cell_type": "markdown",
      "metadata": {},
      "source": [
        "**3)** Los factores primos en 13195 son 5, 7, 13 y 29 ¿ Cuál es el factor primo más grande en el número 600851475143 ?"
      ]
    },
    {
      "cell_type": "code",
      "execution_count": 20,
      "metadata": {},
      "outputs": [],
      "source": [
        "# Primero: una funcion para generar numeros primos\n",
        "# condicion: un numero primo solo puede tener dos divisores: 1 y el mismo\n",
        "def es_primo(n):\n",
        "    if n <= 0:\n",
        "        raise ValueError(\"cero no tiene factores primos\")\n",
        "    else:\n",
        "        # acumulador de la cantidad de divisores\n",
        "        nro_divisores = 0\n",
        "        # 1 es divisor de cualquier numero natural, por eso inicializo i = 2\n",
        "        i = 2\n",
        "        while i < n:\n",
        "            # si el resto es 0, se encontro un divisor\n",
        "            if n % i == 0:\n",
        "                nro_divisores += 1\n",
        "            i += 1\n",
        "        if nro_divisores == 0 and n > 1:\n",
        "            return True\n",
        "        else:\n",
        "            return False\n"
      ]
    },
    {
      "cell_type": "code",
      "execution_count": 22,
      "metadata": {},
      "outputs": [
        {
          "data": {
            "text/plain": [
              "False"
            ]
          },
          "execution_count": 22,
          "metadata": {},
          "output_type": "execute_result"
        }
      ],
      "source": [
        "es_primo(4)"
      ]
    },
    {
      "cell_type": "code",
      "execution_count": 25,
      "metadata": {},
      "outputs": [
        {
          "data": {
            "text/plain": [
              "True"
            ]
          },
          "execution_count": 25,
          "metadata": {},
          "output_type": "execute_result"
        }
      ],
      "source": [
        "es_primo(5)"
      ]
    },
    {
      "cell_type": "code",
      "execution_count": 26,
      "metadata": {},
      "outputs": [],
      "source": [
        "# Funcion para obtener numeros primos\n",
        "def siguiente_primo(n):\n",
        "    '''\n",
        "    dado un numero n, sea primo o no,\n",
        "    devuelve el consecutivo primo de n\n",
        "    '''\n",
        "    while True:\n",
        "        n += 1\n",
        "        if es_primo(n):\n",
        "            return n"
      ]
    },
    {
      "cell_type": "code",
      "execution_count": 27,
      "metadata": {},
      "outputs": [
        {
          "data": {
            "text/plain": [
              "5"
            ]
          },
          "execution_count": 27,
          "metadata": {},
          "output_type": "execute_result"
        }
      ],
      "source": [
        "# testeo\n",
        "siguiente_primo(4)"
      ]
    },
    {
      "cell_type": "code",
      "execution_count": 32,
      "metadata": {},
      "outputs": [
        {
          "data": {
            "text/plain": [
              "17"
            ]
          },
          "execution_count": 32,
          "metadata": {},
          "output_type": "execute_result"
        }
      ],
      "source": [
        "siguiente_primo(13)"
      ]
    },
    {
      "cell_type": "code",
      "execution_count": 33,
      "metadata": {},
      "outputs": [],
      "source": [
        "# Funcion para descomponer en factores\n",
        "def mayor_factor(n):\n",
        "    '''\n",
        "    Devuelve el factor primo mas grande de n\n",
        "    '''\n",
        "    if es_primo(n):\n",
        "        factor_primo = 2\n",
        "        primer_factor = True\n",
        "\n",
        "        while n > 1:\n",
        "            if n % factor_primo == 0:\n",
        "                if primer_factor:\n",
        "                    primer_factor = False\n",
        "                else:\n",
        "                    return factor_primo\n",
        "\n",
        "            else:\n",
        "                factor_primo = siguiente_primo(factor_primo) # actualizar con el siguiente primo\n",
        "    else:\n",
        "        raise ValueError(f\"{n} no es numero primo\")"
      ]
    },
    {
      "cell_type": "code",
      "execution_count": 35,
      "metadata": {},
      "outputs": [
        {
          "data": {
            "text/plain": [
              "17"
            ]
          },
          "execution_count": 35,
          "metadata": {},
          "output_type": "execute_result"
        }
      ],
      "source": [
        "mayor_factor(17)"
      ]
    },
    {
      "cell_type": "markdown",
      "metadata": {
        "id": "u7igirpVIb3T"
      },
      "source": [
        "A partir de aquí tenga en cuenta que puede utilizar python con todas las librerías disponibles de [Scipy](https://www.scipy.org/),[ Numpy](https://numpy.org/),[ Matplotlib](https://matplotlib.org/), visite las páginas de referencia e intente resolver los problemas como armaría un script para su trabajo diario. Tiene disponibles como referencia los ejemplos vistos en la parte teórica.\n",
        "\n",
        "**4)** Dado el siguiente set de datos, obtenga un gráfico tipo scatter plot para X en función de Y.\n",
        "\n",
        "| X       Y    |\n",
        "|--------------|\n",
        "| 7.5    28.66 |\n",
        "| 4.48   20.37 |\n",
        "| 8.60   22.33 |\n",
        "| 7.73   26.35 |\n",
        "| 5.28   22.29 |\n",
        "| 4.25   21.74 |\n",
        "| 6.99   23.11 |\n",
        "| 6.31   23.13 |\n",
        "| 9.15   24.68 |\n",
        "| 5.06   21.89 |\n",
        "\n",
        "**a)** Intente realizar un ajuste lineal o de algún polinomio utilizando este set de datos.\n",
        "\n",
        "**b)** Intente colocar label para los ejes y los datos\n",
        "\n",
        "**c)** Graficar el siguiente polinomio, su derivada y puntos extremos: f(x)=x³+x²-4x+4\n",
        "\n",
        "**d)** Colocar titulo a los ejes y agregarle una grilla en ambos. Definir el rango de la función entre -10 y 10.\n",
        "\n",
        "**e)** Colocar titulo y colores distintos para la función y la derivada.\n",
        "\n",
        "**f)** Guardar los resultados de evaluar la función en el rango del punto a cada 0.1 unidades en un archivo de texto."
      ]
    },
    {
      "cell_type": "code",
      "execution_count": 51,
      "metadata": {},
      "outputs": [],
      "source": [
        "import matplotlib.pyplot as plt\n",
        "import seaborn as sns\n",
        "import numpy as np"
      ]
    },
    {
      "cell_type": "code",
      "execution_count": 36,
      "metadata": {
        "id": "3PIEF-mbH_e_"
      },
      "outputs": [],
      "source": [
        "x = [7.5, 4.48, 8.60, 7.73, 5.28, 4.25, 6.99, 6.31, 9.15, 5.06]\n",
        "y = [28.66, 20.37, 22.33, 26.35, 22.29, 21.74, 23.11, 23.13, 24.68, 21.89]"
      ]
    },
    {
      "cell_type": "code",
      "execution_count": 39,
      "metadata": {},
      "outputs": [
        {
          "data": {
            "image/png": "[encoded data removed]",
            "text/plain": [
              "<Figure size 432x288 with 1 Axes>"
            ]
          },
          "metadata": {
            "needs_background": "light"
          },
          "output_type": "display_data"
        }
      ],
      "source": [
        "# Primer visualizar los datos\n",
        "plt.scatter(x, y)\n",
        "plt.show()"
      ]
    },
    {
      "cell_type": "code",
      "execution_count": 44,
      "metadata": {},
      "outputs": [
        {
          "name": "stdout",
          "output_type": "stream",
          "text": [
            "[ 0.86599664 17.79571197]\n"
          ]
        }
      ],
      "source": [
        "# Encontrar los coeficientes con numpy\n",
        "coef = np.polyfit(x, y, 1) # Fit a polynomial p(x) = p[0] * x**deg + ... + p[deg]; deg = 1\n",
        "print(coef)"
      ]
    },
    {
      "cell_type": "code",
      "execution_count": 46,
      "metadata": {},
      "outputs": [],
      "source": [
        "# Construir la curva con esos coeficientes\n",
        "poly1d_fn = np.poly1d(coef)"
      ]
    },
    {
      "cell_type": "code",
      "execution_count": 47,
      "metadata": {},
      "outputs": [
        {
          "data": {
            "text/plain": [
              "[<matplotlib.lines.Line2D at 0x1c7b79c1088>,\n",
              " <matplotlib.lines.Line2D at 0x1c7b41dcd08>]"
            ]
          },
          "execution_count": 47,
          "metadata": {},
          "output_type": "execute_result"
        },
        {
          "data": {
            "image/png": "[encoded data removed]",
            "text/plain": [
              "<Figure size 432x288 with 1 Axes>"
            ]
          },
          "metadata": {
            "needs_background": "light"
          },
          "output_type": "display_data"
        }
      ],
      "source": [
        "plt.plot(x, y, 'yo', x, poly1d_fn(x), '--k') #'--k'=black dashed line, 'yo' = yellow circle marker"
      ]
    },
    {
      "cell_type": "code",
      "execution_count": 156,
      "metadata": {},
      "outputs": [],
      "source": [
        "# Graficar el siguiente polinomio, su derivada y puntos extremos: f(x)=x³+x²-4x+4\n",
        "# Primero un vector con valores de x\n",
        "x = np.linspace(-10, 10, 100)\n",
        "# Un vector con los valores del polinomio en cada punto\n",
        "y = x**3 + x**2 - 4*x +4\n",
        "# Primera derivada\n",
        "der = 3*x**2 + 2*x - 4"
      ]
    },
    {
      "cell_type": "code",
      "execution_count": 157,
      "metadata": {},
      "outputs": [],
      "source": [
        "# puntos extremos\n",
        "ymax= max(y)\n",
        "ymin= min(y)"
      ]
    },
    {
      "cell_type": "markdown",
      "metadata": {},
      "source": [
        "fig, ax = plt.subplots(figsize=(12,10))\n",
        "# Plot puntos extremos\n",
        "for i, val in enumerate(y):\n",
        "    if val == ymin or val == ymax:\n",
        "        ax.scatter(x[i], val, c='red') \n",
        "    else:\n",
        "        ax.scatter(x[i], val, c='slateblue')\n",
        "\n",
        "# Plot derivada\n",
        "plt.plot(x, der, 'salmon')\n",
        "\n",
        "# Anotaciones\n",
        "# minimo\n",
        "ax.annotate(\n",
        "    \"ymin\",\n",
        "    xy= (x[0], ymin),\n",
        "    xytext = (x[0]+1, ymin),\n",
        "    size=15,\n",
        "    weight='bold',\n",
        "    arrowprops = dict(facecolor='black', shrinkA=0, linewidth= 2),\n",
        "    verticalalignment='center',\n",
        "    horizontalalignment='left'\n",
        ")\n",
        "# maximo\n",
        "ax.annotate(\n",
        "    \"ymax\",\n",
        "    xy= (x[99], ymax),\n",
        "    xytext = (x[99]-1, ymax),\n",
        "    size=15,\n",
        "    weight='bold',\n",
        "    arrowprops = dict(facecolor='black', shrinkA=0, linewidth= 2),\n",
        "    verticalalignment='center',\n",
        "    horizontalalignment='right'\n",
        ")\n",
        "\n",
        "ax.annotate(\n",
        "    \"primera derivada\",\n",
        "    xy= (x[10], der[10]),\n",
        "    xytext = (x[10], der[10]+120),\n",
        "    size=15,\n",
        "    weight='bold',\n",
        "    arrowprops = dict(facecolor='black', shrinkA=0, linewidth= 2),\n",
        "    verticalalignment='bottom',\n",
        "    horizontalalignment='center'\n",
        ")\n",
        "\n",
        "ax.tick_params(labelsize=15)\n",
        "plt.grid(axis=\"y\")\n",
        "plt.title(\"Polinomio f(x)=x³+x²-4x+4\\n\", fontsize=25, weight='bold')\n",
        "plt.ylabel (\"f(x)\", fontsize=20, weight='bold')\n",
        "plt.xlabel (\"x\", fontsize=20, weight='bold')\n",
        "plt.xlim([-11, 11])\n",
        "plt.show()\n",
        "#fig.savefig(\"pol_fun.png\", dpi=300, bbox_inches='tight')"
      ]
    },
    {
      "cell_type": "code",
      "execution_count": 137,
      "metadata": {},
      "outputs": [],
      "source": [
        "# Guardar los resultados de evaluar la función en el rango del punto a cada 0.1 unidades en un archivo de texto.\n",
        "x = np.arange(-10, 10, 0.1)\n",
        "y = x**3 + x**2 - 4*x +4"
      ]
    },
    {
      "cell_type": "code",
      "execution_count": 148,
      "metadata": {},
      "outputs": [
        {
          "data": {
            "text/plain": [
              "(200, 2)"
            ]
          },
          "execution_count": 148,
          "metadata": {},
          "output_type": "execute_result"
        }
      ],
      "source": [
        "# Pasar ambos vectores a un array 2d\n",
        "data = np.vstack((x, y)).T\n",
        "data.shape"
      ]
    },
    {
      "cell_type": "code",
      "execution_count": 154,
      "metadata": {},
      "outputs": [],
      "source": [
        "np.savetxt(\"polinomio.tsv\", data, delimiter= '\\t')"
      ]
    }
  ],
  "metadata": {
    "colab": {
      "name": "hands_on_clase_01.ipynb",
      "provenance": []
    },
    "interpreter": {
      "hash": "9164a3399a70d355c381b62813f30880ed90ca5a6f321bf0d85375640bda7ee5"
    },
    "kernelspec": {
      "display_name": "Python 3.7.9 64-bit",
      "name": "python3"
    },
    "language_info": {
      "codemirror_mode": {
        "name": "ipython",
        "version": 3
      },
      "file_extension": ".py",
      "mimetype": "text/x-python",
      "name": "python",
      "nbconvert_exporter": "python",
      "pygments_lexer": "ipython3",
      "version": "3.7.9"
    }
  },
  "nbformat": 4,
  "nbformat_minor": 0
}
