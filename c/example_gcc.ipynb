{
  "nbformat": 4,
  "nbformat_minor": 0,
  "metadata": {
    "colab": {
      "name": "example_gcc.ipynb",
      "provenance": [],
      "collapsed_sections": []
    },
    "kernelspec": {
      "name": "python3",
      "display_name": "Python 3"
    }
  },
  "cells": [
    {
      "cell_type": "code",
      "metadata": {
        "id": "6fnyusioHEuU",
        "outputId": "ae55e3da-8895-44f0-f983-4bb04a19d547",
        "colab": {
          "base_uri": "https://localhost:8080/"
        }
      },
      "source": [
        "#Instalas y linkeas las librerias para el compilador\n",
        "!apt-get install -qq gcc-5 g++-5 -y\n",
        "!ln -s /usr/bin/gcc-5 \n",
        "!ln -s /usr/bin/g++-5 "
      ],
      "execution_count": null,
      "outputs": [
        {
          "output_type": "stream",
          "text": [
            "Selecting previously unselected package gcc-5-base:amd64.\n",
            "(Reading database ... 144628 files and directories currently installed.)\n",
            "Preparing to unpack .../0-gcc-5-base_5.5.0-12ubuntu1_amd64.deb ...\n",
            "Unpacking gcc-5-base:amd64 (5.5.0-12ubuntu1) ...\n",
            "Selecting previously unselected package libisl15:amd64.\n",
            "Preparing to unpack .../1-libisl15_0.18-4_amd64.deb ...\n",
            "Unpacking libisl15:amd64 (0.18-4) ...\n",
            "Selecting previously unselected package cpp-5.\n",
            "Preparing to unpack .../2-cpp-5_5.5.0-12ubuntu1_amd64.deb ...\n",
            "Unpacking cpp-5 (5.5.0-12ubuntu1) ...\n",
            "Selecting previously unselected package libasan2:amd64.\n",
            "Preparing to unpack .../3-libasan2_5.5.0-12ubuntu1_amd64.deb ...\n",
            "Unpacking libasan2:amd64 (5.5.0-12ubuntu1) ...\n",
            "Selecting previously unselected package libmpx0:amd64.\n",
            "Preparing to unpack .../4-libmpx0_5.5.0-12ubuntu1_amd64.deb ...\n",
            "Unpacking libmpx0:amd64 (5.5.0-12ubuntu1) ...\n",
            "Selecting previously unselected package libgcc-5-dev:amd64.\n",
            "Preparing to unpack .../5-libgcc-5-dev_5.5.0-12ubuntu1_amd64.deb ...\n",
            "Unpacking libgcc-5-dev:amd64 (5.5.0-12ubuntu1) ...\n",
            "Selecting previously unselected package gcc-5.\n",
            "Preparing to unpack .../6-gcc-5_5.5.0-12ubuntu1_amd64.deb ...\n",
            "Unpacking gcc-5 (5.5.0-12ubuntu1) ...\n",
            "Selecting previously unselected package libstdc++-5-dev:amd64.\n",
            "Preparing to unpack .../7-libstdc++-5-dev_5.5.0-12ubuntu1_amd64.deb ...\n",
            "Unpacking libstdc++-5-dev:amd64 (5.5.0-12ubuntu1) ...\n",
            "Selecting previously unselected package g++-5.\n",
            "Preparing to unpack .../8-g++-5_5.5.0-12ubuntu1_amd64.deb ...\n",
            "Unpacking g++-5 (5.5.0-12ubuntu1) ...\n",
            "Setting up libisl15:amd64 (0.18-4) ...\n",
            "Setting up gcc-5-base:amd64 (5.5.0-12ubuntu1) ...\n",
            "Setting up libmpx0:amd64 (5.5.0-12ubuntu1) ...\n",
            "Setting up libasan2:amd64 (5.5.0-12ubuntu1) ...\n",
            "Setting up libgcc-5-dev:amd64 (5.5.0-12ubuntu1) ...\n",
            "Setting up cpp-5 (5.5.0-12ubuntu1) ...\n",
            "Setting up libstdc++-5-dev:amd64 (5.5.0-12ubuntu1) ...\n",
            "Setting up gcc-5 (5.5.0-12ubuntu1) ...\n",
            "Setting up g++-5 (5.5.0-12ubuntu1) ...\n",
            "Processing triggers for man-db (2.8.3-2ubuntu0.1) ...\n",
            "Processing triggers for libc-bin (2.27-3ubuntu1.2) ...\n",
            "/sbin/ldconfig.real: /usr/local/lib/python3.6/dist-packages/ideep4py/lib/libmkldnn.so.0 is not a symbolic link\n",
            "\n"
          ],
          "name": "stdout"
        }
      ]
    },
    {
      "cell_type": "code",
      "metadata": {
        "id": "AJUCQ3zBPDiY",
        "outputId": "5b32a6ba-9c2e-41e1-f0bb-ac5333135335",
        "colab": {
          "base_uri": "https://localhost:8080/"
        }
      },
      "source": [
        "#Asi importas las lib de sistemas\n",
        "import os\n",
        "import sys\n",
        "#Para copiar las cosas que necesito en el directorio de collab\n",
        "from google.colab import files\n",
        "from google.colab import drive\n",
        "drive.mount('/content/gdrive', force_remount=True)\n",
        "sys.path.append('/content/gdrive/My Drive/2020_curso_TPC')\n",
        "!cp \"/content/gdrive/My Drive/2020_curso_TPC/hello.c\" ."
      ],
      "execution_count": null,
      "outputs": [
        {
          "output_type": "stream",
          "text": [
            "Mounted at /content/gdrive\n"
          ],
          "name": "stdout"
        }
      ]
    },
    {
      "cell_type": "code",
      "metadata": {
        "id": "Ky6PNBNYHXeH",
        "outputId": "684d8e3c-41b3-4ddf-c344-e52d9a70fc20",
        "colab": {
          "base_uri": "https://localhost:8080/"
        }
      },
      "source": [
        "#El ! se usa adelante para que corra lo que quieras\n",
        "!gcc --version"
      ],
      "execution_count": null,
      "outputs": [
        {
          "output_type": "stream",
          "text": [
            "gcc (Ubuntu 7.5.0-3ubuntu1~18.04) 7.5.0\n",
            "Copyright (C) 2017 Free Software Foundation, Inc.\n",
            "This is free software; see the source for copying conditions.  There is NO\n",
            "warranty; not even for MERCHANTABILITY or FITNESS FOR A PARTICULAR PURPOSE.\n",
            "\n"
          ],
          "name": "stdout"
        }
      ]
    },
    {
      "cell_type": "code",
      "metadata": {
        "id": "BKY2MLbqMnoR",
        "outputId": "a10d8ae8-57f1-4c45-d602-f76197d6a730",
        "colab": {
          "base_uri": "https://localhost:8080/",
          "height": 1000
        }
      },
      "source": [
        "!gcc --help"
      ],
      "execution_count": null,
      "outputs": [
        {
          "output_type": "stream",
          "text": [
            "Usage: gcc [options] file...\n",
            "Options:\n",
            "  -pass-exit-codes         Exit with highest error code from a phase.\n",
            "  --help                   Display this information.\n",
            "  --target-help            Display target specific command line options.\n",
            "  --help={common|optimizers|params|target|warnings|[^]{joined|separate|undocumented}}[,...].\n",
            "                           Display specific types of command line options.\n",
            "  (Use '-v --help' to display command line options of sub-processes).\n",
            "  --version                Display compiler version information.\n",
            "  -dumpspecs               Display all of the built in spec strings.\n",
            "  -dumpversion             Display the version of the compiler.\n",
            "  -dumpmachine             Display the compiler's target processor.\n",
            "  -print-search-dirs       Display the directories in the compiler's search path.\n",
            "  -print-libgcc-file-name  Display the name of the compiler's companion library.\n",
            "  -print-file-name=<lib>   Display the full path to library <lib>.\n",
            "  -print-prog-name=<prog>  Display the full path to compiler component <prog>.\n",
            "  -print-multiarch         Display the target's normalized GNU triplet, used as\n",
            "                           a component in the library path.\n",
            "  -print-multi-directory   Display the root directory for versions of libgcc.\n",
            "  -print-multi-lib         Display the mapping between command line options and\n",
            "                           multiple library search directories.\n",
            "  -print-multi-os-directory Display the relative path to OS libraries.\n",
            "  -print-sysroot           Display the target libraries directory.\n",
            "  -print-sysroot-headers-suffix Display the sysroot suffix used to find headers.\n",
            "  -Wa,<options>            Pass comma-separated <options> on to the assembler.\n",
            "  -Wp,<options>            Pass comma-separated <options> on to the preprocessor.\n",
            "  -Wl,<options>            Pass comma-separated <options> on to the linker.\n",
            "  -Xassembler <arg>        Pass <arg> on to the assembler.\n",
            "  -Xpreprocessor <arg>     Pass <arg> on to the preprocessor.\n",
            "  -Xlinker <arg>           Pass <arg> on to the linker.\n",
            "  -save-temps              Do not delete intermediate files.\n",
            "  -save-temps=<arg>        Do not delete intermediate files.\n",
            "  -no-canonical-prefixes   Do not canonicalize paths when building relative\n",
            "                           prefixes to other gcc components.\n",
            "  -pipe                    Use pipes rather than intermediate files.\n",
            "  -time                    Time the execution of each subprocess.\n",
            "  -specs=<file>            Override built-in specs with the contents of <file>.\n",
            "  -std=<standard>          Assume that the input sources are for <standard>.\n",
            "  --sysroot=<directory>    Use <directory> as the root directory for headers\n",
            "                           and libraries.\n",
            "  -B <directory>           Add <directory> to the compiler's search paths.\n",
            "  -v                       Display the programs invoked by the compiler.\n",
            "  -###                     Like -v but options quoted and commands not executed.\n",
            "  -E                       Preprocess only; do not compile, assemble or link.\n",
            "  -S                       Compile only; do not assemble or link.\n",
            "  -c                       Compile and assemble, but do not link.\n",
            "  -o <file>                Place the output into <file>.\n",
            "  -pie                     Create a position independent executable.\n",
            "  -shared                  Create a shared library.\n",
            "  -x <language>            Specify the language of the following input files.\n",
            "                           Permissible languages include: c c++ assembler none\n",
            "                           'none' means revert to the default behavior of\n",
            "                           guessing the language based on the file's extension.\n",
            "\n",
            "Options starting with -g, -f, -m, -O, -W, or --param are automatically\n",
            " passed on to the various sub-processes invoked by gcc.  In order to pass\n",
            " other options on to these processes the -W<letter> options must be used.\n",
            "\n",
            "For bug reporting instructions, please see:\n",
            "<file:///usr/share/doc/gcc-7/README.Bugs>.\n"
          ],
          "name": "stdout"
        }
      ]
    },
    {
      "cell_type": "code",
      "metadata": {
        "id": "L2iuMPynEkSg"
      },
      "source": [
        "#compilamos\n",
        "!gcc hello.c\n"
      ],
      "execution_count": null,
      "outputs": []
    },
    {
      "cell_type": "code",
      "metadata": {
        "id": "KCY0iCxeQ2BZ",
        "outputId": "b9e88537-62a1-4729-c171-86e9091400e9",
        "colab": {
          "base_uri": "https://localhost:8080/"
        }
      },
      "source": [
        "#ejecutamos\n",
        "!./a.out"
      ],
      "execution_count": null,
      "outputs": [
        {
          "output_type": "stream",
          "text": [
            "Hello World"
          ],
          "name": "stdout"
        }
      ]
    },
    {
      "cell_type": "code",
      "metadata": {
        "id": "ReAE3I1_Q8En"
      },
      "source": [
        ""
      ],
      "execution_count": null,
      "outputs": []
    }
  ]
}